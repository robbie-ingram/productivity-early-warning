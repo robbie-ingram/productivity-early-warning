{
 "cells": [
  {
   "cell_type": "code",
   "execution_count": null,
   "metadata": {},
   "outputs": [],
   "source": [
    "\"\"\"\n",
    "this notebook covers the centralization, basic eda, cleaning, \n",
    "preprocessing, and modeling of 3 years of my personal metrics. \n",
    "\n",
    "data i've collected includes:\n",
    "- apple health data\n",
    "    - heart rate (HR) (HR variability, resting HR, average HR)\n",
    "    - sleep (time in each stage, time in bed, time actually asleep, bedtime, risetime, etc.)\n",
    "    - step count\n",
    "    - screen time\n",
    "- other health data\n",
    "    - weight\n",
    "    - bodyfat percentage (estimated w/ US Navy method)\n",
    "    - nutritional info (calories, macronutrients, and micronutrients)\n",
    "    - workout frequency (0 or 1 for each day)\n",
    "    - sleep debt (calculated by me from a rolling 2-week window)\n",
    "- productivity data\n",
    "    - arrival time to work\n",
    "    - hours spent in deep work (coding, experiments, etc.)\n",
    "    - hours spent in shallow work (emails, making solutions, etc.)\n",
    "    - departure time from work\n",
    "    - specific tasks worked on\n",
    "\n",
    "the goal of this notebook is to prepare the data for modeling. my goal\n",
    "is to predict my work efficiency (deep:shallow ratio). a higher ratio indicates\n",
    "i am spending more time on things that matter. a lower ratio indicates i am getting\n",
    "bogged down in admin or busywork. note that shallow work is not unimportant, as things\n",
    "like emails and making solutions should not be ignored. however, the goal is to\n",
    "minimize time spent on shallow tasks and focus on the deeper efforts that\n",
    "ultimately move a project forward.\n",
    "\n",
    "I will then take the model and create an 'early warning tool' to tell me when\n",
    "I am at risk for decreased efficiency the day before it occurs. i can then take steps\n",
    "to make address this (caffeine, more breaks, changing the work environment, etc.)\n",
    "\"\"\""
   ]
  },
  {
   "cell_type": "code",
   "execution_count": null,
   "metadata": {},
   "outputs": [],
   "source": []
  }
 ],
 "metadata": {
  "language_info": {
   "name": "python"
  }
 },
 "nbformat": 4,
 "nbformat_minor": 2
}
